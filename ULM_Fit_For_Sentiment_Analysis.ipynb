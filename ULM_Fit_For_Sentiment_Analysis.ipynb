{
  "nbformat": 4,
  "nbformat_minor": 0,
  "metadata": {
    "colab": {
      "name": "ULM_Fit_Ziwei's_Final_Attempt.ipynb",
      "provenance": []
    },
    "kernelspec": {
      "name": "python3",
      "display_name": "Python 3"
    }
  },
  "cells": [
    {
      "cell_type": "code",
      "metadata": {
        "id": "NRVG7sFiU6V5",
        "colab_type": "code",
        "colab": {}
      },
      "source": [
        "# Basic packages\n",
        "import pandas as pd \n",
        "import numpy as np\n",
        "import re\n",
        "import collections\n",
        "import matplotlib.pyplot as plt\n",
        "\n",
        "# Modeling, selection, and evaluation\n",
        "from fastai.text import *\n",
        "#from fastai.text import learner, transform, language_model_learner\n",
        "#from fastai.text import TextClasDataBunch\n",
        "#from fastai.text import TextList\n",
        "\n",
        "#from MyLSTM import AWD_LSTM\n",
        "from sklearn.model_selection import train_test_split\n",
        "from sklearn.metrics import confusion_matrix, accuracy_score\n",
        "from sklearn.utils.multiclass import unique_labels\n",
        "\n",
        "%matplotlib inline "
      ],
      "execution_count": null,
      "outputs": []
    },
    {
      "cell_type": "code",
      "metadata": {
        "id": "GQXzVoE46PaT",
        "colab_type": "code",
        "colab": {
          "base_uri": "https://localhost:8080/",
          "height": 122
        },
        "outputId": "ecee3437-8cf8-49ec-992c-4c533d03f616"
      },
      "source": [
        "from google.colab import drive\n",
        "drive.mount('/content/gdrive')\n"
      ],
      "execution_count": null,
      "outputs": [
        {
          "output_type": "stream",
          "text": [
            "Go to this URL in a browser: https://accounts.google.com/o/oauth2/auth?client_id=947318989803-6bn6qk8qdgf4n4g3pfee6491hc0brc4i.apps.googleusercontent.com&redirect_uri=urn%3aietf%3awg%3aoauth%3a2.0%3aoob&response_type=code&scope=email%20https%3a%2f%2fwww.googleapis.com%2fauth%2fdocs.test%20https%3a%2f%2fwww.googleapis.com%2fauth%2fdrive%20https%3a%2f%2fwww.googleapis.com%2fauth%2fdrive.photos.readonly%20https%3a%2f%2fwww.googleapis.com%2fauth%2fpeopleapi.readonly\n",
            "\n",
            "Enter your authorization code:\n",
            "··········\n",
            "Mounted at /content/gdrive\n"
          ],
          "name": "stdout"
        }
      ]
    },
    {
      "cell_type": "code",
      "metadata": {
        "id": "0fa22P3HU-rO",
        "colab_type": "code",
        "colab": {
          "base_uri": "https://localhost:8080/",
          "height": 581
        },
        "outputId": "0ba135e5-c713-423d-aa27-7e11beb01f4b"
      },
      "source": [
        "# Read file into dataframe\n",
        "file_dir = '/content/gdrive/My Drive/APS360 Project/'\n",
        "pd.set_option('display.max_colwidth', -1)\n",
        "df = pd.read_csv(file_dir + \"training.1600000.processed.noemoticon - Copy.csv\")\n",
        "df = df.reindex(np.random.permutation(df.index))  \n",
        "df.head()"
      ],
      "execution_count": null,
      "outputs": [
        {
          "output_type": "stream",
          "text": [
            "/usr/local/lib/python3.6/dist-packages/ipykernel_launcher.py:3: FutureWarning: Passing a negative integer is deprecated in version 1.0 and will not be supported in future version. Instead, use None to not limit the column width.\n",
            "  This is separate from the ipykernel package so we can avoid doing imports until\n"
          ],
          "name": "stderr"
        },
        {
          "output_type": "execute_result",
          "data": {
            "text/html": [
              "<div>\n",
              "<style scoped>\n",
              "    .dataframe tbody tr th:only-of-type {\n",
              "        vertical-align: middle;\n",
              "    }\n",
              "\n",
              "    .dataframe tbody tr th {\n",
              "        vertical-align: top;\n",
              "    }\n",
              "\n",
              "    .dataframe thead th {\n",
              "        text-align: right;\n",
              "    }\n",
              "</style>\n",
              "<table border=\"1\" class=\"dataframe\">\n",
              "  <thead>\n",
              "    <tr style=\"text-align: right;\">\n",
              "      <th></th>\n",
              "      <th>0</th>\n",
              "      <th>1467810369</th>\n",
              "      <th>Mon Apr 06 22:19:45 PDT 2009</th>\n",
              "      <th>NO_QUERY</th>\n",
              "      <th>_TheSpecialOne_</th>\n",
              "      <th>@switchfoot http://twitpic.com/2y1zl - Awww, that's a bummer.  You shoulda got David Carr of Third Day to do it. ;D</th>\n",
              "      <th>http://twitpic.com/2y1zl - Awww, that's a bummer. You shoulda got David Carr of Third Day to do it. ;D</th>\n",
              "    </tr>\n",
              "  </thead>\n",
              "  <tbody>\n",
              "    <tr>\n",
              "      <th>454169</th>\n",
              "      <td>0</td>\n",
              "      <td>2070524973</td>\n",
              "      <td>Sun Jun 07 17:50:59 PDT 2009</td>\n",
              "      <td>NO_QUERY</td>\n",
              "      <td>LilMichou</td>\n",
              "      <td>while brushing my teeth, i somehow managed to fling my toothbrush into the toilet</td>\n",
              "      <td>while brushing my teeth, i somehow managed to fling my toothbrush into the toilet</td>\n",
              "    </tr>\n",
              "    <tr>\n",
              "      <th>817610</th>\n",
              "      <td>4</td>\n",
              "      <td>1551808078</td>\n",
              "      <td>Sat Apr 18 10:01:34 PDT 2009</td>\n",
              "      <td>NO_QUERY</td>\n",
              "      <td>dollyboox3</td>\n",
              "      <td>@tarabearra YEAHH  buhahahah . miissedd uuu like i love spongebob xD u rememberr . lmfaoo. iloveyoutodiie.</td>\n",
              "      <td>YEAHH buhahahah . miissedd uuu like i love spongebob xD u rememberr . lmfaoo. iloveyoutodiie.</td>\n",
              "    </tr>\n",
              "    <tr>\n",
              "      <th>473173</th>\n",
              "      <td>0</td>\n",
              "      <td>2177010667</td>\n",
              "      <td>Mon Jun 15 05:15:27 PDT 2009</td>\n",
              "      <td>NO_QUERY</td>\n",
              "      <td>nounour</td>\n",
              "      <td>I am so sad. That's unfair. I so want to see @jonasbrothers &amp;amp; @ddlovato live in TUNISIA.</td>\n",
              "      <td>I am so sad. That's unfair. I so want to see &amp;amp; live in TUNISIA.</td>\n",
              "    </tr>\n",
              "    <tr>\n",
              "      <th>764112</th>\n",
              "      <td>0</td>\n",
              "      <td>2298709430</td>\n",
              "      <td>Tue Jun 23 12:00:59 PDT 2009</td>\n",
              "      <td>NO_QUERY</td>\n",
              "      <td>reemer</td>\n",
              "      <td>passing York - typed up notes from meeting with senior officers of engagement at Arts Council. Holiday leave over  need a holiday.</td>\n",
              "      <td>passing York - typed up notes from meeting with senior officers of engagement at Arts Council. Holiday leave over need a holiday.</td>\n",
              "    </tr>\n",
              "    <tr>\n",
              "      <th>166788</th>\n",
              "      <td>0</td>\n",
              "      <td>1961449612</td>\n",
              "      <td>Fri May 29 09:31:13 PDT 2009</td>\n",
              "      <td>NO_QUERY</td>\n",
              "      <td>jasminepotts</td>\n",
              "      <td>@nattymsmith awww she's laavly ;) I had to come in  but I've got a stunning wee tan (l) ;) yourself?</td>\n",
              "      <td>awww she's laavly ;) I had to come in but I've got a stunning wee tan (l) ;) yourself?</td>\n",
              "    </tr>\n",
              "  </tbody>\n",
              "</table>\n",
              "</div>"
            ],
            "text/plain": [
              "        0  ...                             http://twitpic.com/2y1zl - Awww, that's a bummer. You shoulda got David Carr of Third Day to do it. ;D\n",
              "454169  0  ...  while brushing my teeth, i somehow managed to fling my toothbrush into the toilet                                                \n",
              "817610  4  ...  YEAHH buhahahah . miissedd uuu like i love spongebob xD u rememberr . lmfaoo. iloveyoutodiie.                                    \n",
              "473173  0  ...  I am so sad. That's unfair. I so want to see &amp; live in TUNISIA.                                                              \n",
              "764112  0  ...  passing York - typed up notes from meeting with senior officers of engagement at Arts Council. Holiday leave over need a holiday.\n",
              "166788  0  ...  awww she's laavly ;) I had to come in but I've got a stunning wee tan (l) ;) yourself?                                           \n",
              "\n",
              "[5 rows x 7 columns]"
            ]
          },
          "metadata": {
            "tags": []
          },
          "execution_count": 3
        }
      ]
    },
    {
      "cell_type": "code",
      "metadata": {
        "id": "iiTRSUU1DMMw",
        "colab_type": "code",
        "colab": {
          "base_uri": "https://localhost:8080/",
          "height": 238
        },
        "outputId": "1e354bc4-4279-451b-bc30-9cb413435486"
      },
      "source": [
        "df_processed = df.drop(df.columns[2:6], axis=1)\n",
        "df_processed.head()"
      ],
      "execution_count": null,
      "outputs": [
        {
          "output_type": "execute_result",
          "data": {
            "text/html": [
              "<div>\n",
              "<style scoped>\n",
              "    .dataframe tbody tr th:only-of-type {\n",
              "        vertical-align: middle;\n",
              "    }\n",
              "\n",
              "    .dataframe tbody tr th {\n",
              "        vertical-align: top;\n",
              "    }\n",
              "\n",
              "    .dataframe thead th {\n",
              "        text-align: right;\n",
              "    }\n",
              "</style>\n",
              "<table border=\"1\" class=\"dataframe\">\n",
              "  <thead>\n",
              "    <tr style=\"text-align: right;\">\n",
              "      <th></th>\n",
              "      <th>0</th>\n",
              "      <th>1467810369</th>\n",
              "      <th>http://twitpic.com/2y1zl - Awww, that's a bummer. You shoulda got David Carr of Third Day to do it. ;D</th>\n",
              "    </tr>\n",
              "  </thead>\n",
              "  <tbody>\n",
              "    <tr>\n",
              "      <th>454169</th>\n",
              "      <td>0</td>\n",
              "      <td>2070524973</td>\n",
              "      <td>while brushing my teeth, i somehow managed to fling my toothbrush into the toilet</td>\n",
              "    </tr>\n",
              "    <tr>\n",
              "      <th>817610</th>\n",
              "      <td>4</td>\n",
              "      <td>1551808078</td>\n",
              "      <td>YEAHH buhahahah . miissedd uuu like i love spongebob xD u rememberr . lmfaoo. iloveyoutodiie.</td>\n",
              "    </tr>\n",
              "    <tr>\n",
              "      <th>473173</th>\n",
              "      <td>0</td>\n",
              "      <td>2177010667</td>\n",
              "      <td>I am so sad. That's unfair. I so want to see &amp;amp; live in TUNISIA.</td>\n",
              "    </tr>\n",
              "    <tr>\n",
              "      <th>764112</th>\n",
              "      <td>0</td>\n",
              "      <td>2298709430</td>\n",
              "      <td>passing York - typed up notes from meeting with senior officers of engagement at Arts Council. Holiday leave over need a holiday.</td>\n",
              "    </tr>\n",
              "    <tr>\n",
              "      <th>166788</th>\n",
              "      <td>0</td>\n",
              "      <td>1961449612</td>\n",
              "      <td>awww she's laavly ;) I had to come in but I've got a stunning wee tan (l) ;) yourself?</td>\n",
              "    </tr>\n",
              "  </tbody>\n",
              "</table>\n",
              "</div>"
            ],
            "text/plain": [
              "        0  ...                             http://twitpic.com/2y1zl - Awww, that's a bummer. You shoulda got David Carr of Third Day to do it. ;D\n",
              "454169  0  ...  while brushing my teeth, i somehow managed to fling my toothbrush into the toilet                                                \n",
              "817610  4  ...  YEAHH buhahahah . miissedd uuu like i love spongebob xD u rememberr . lmfaoo. iloveyoutodiie.                                    \n",
              "473173  0  ...  I am so sad. That's unfair. I so want to see &amp; live in TUNISIA.                                                              \n",
              "764112  0  ...  passing York - typed up notes from meeting with senior officers of engagement at Arts Council. Holiday leave over need a holiday.\n",
              "166788  0  ...  awww she's laavly ;) I had to come in but I've got a stunning wee tan (l) ;) yourself?                                           \n",
              "\n",
              "[5 rows x 3 columns]"
            ]
          },
          "metadata": {
            "tags": []
          },
          "execution_count": 4
        }
      ]
    },
    {
      "cell_type": "code",
      "metadata": {
        "id": "_YXB3wi0iDmp",
        "colab_type": "code",
        "colab": {}
      },
      "source": [
        "df_processed['tweet_length'] = len(df_processed.columns[2])"
      ],
      "execution_count": null,
      "outputs": []
    },
    {
      "cell_type": "code",
      "metadata": {
        "id": "-H1qTAMPFEEM",
        "colab_type": "code",
        "colab": {}
      },
      "source": [
        "df_processed.columns = ['sentiment','tweet_id', 'text', 'tweet_length']"
      ],
      "execution_count": null,
      "outputs": []
    },
    {
      "cell_type": "code",
      "metadata": {
        "id": "sdo5tGapQjYG",
        "colab_type": "code",
        "colab": {
          "base_uri": "https://localhost:8080/",
          "height": 470
        },
        "outputId": "8880e317-511d-458f-ce73-d360e059f023"
      },
      "source": [
        "df_clean = df_processed.dropna()\n",
        "df_clean.columns = ['sentiment','tweet_id', 'text', 'tweet_length']\n",
        "df_clean.head()\n",
        "df_clean.shape[0]\n",
        "df_clean.fillna(0)"
      ],
      "execution_count": null,
      "outputs": [
        {
          "output_type": "execute_result",
          "data": {
            "text/html": [
              "<div>\n",
              "<style scoped>\n",
              "    .dataframe tbody tr th:only-of-type {\n",
              "        vertical-align: middle;\n",
              "    }\n",
              "\n",
              "    .dataframe tbody tr th {\n",
              "        vertical-align: top;\n",
              "    }\n",
              "\n",
              "    .dataframe thead th {\n",
              "        text-align: right;\n",
              "    }\n",
              "</style>\n",
              "<table border=\"1\" class=\"dataframe\">\n",
              "  <thead>\n",
              "    <tr style=\"text-align: right;\">\n",
              "      <th></th>\n",
              "      <th>sentiment</th>\n",
              "      <th>tweet_id</th>\n",
              "      <th>text</th>\n",
              "      <th>tweet_length</th>\n",
              "    </tr>\n",
              "  </thead>\n",
              "  <tbody>\n",
              "    <tr>\n",
              "      <th>454169</th>\n",
              "      <td>0</td>\n",
              "      <td>2070524973</td>\n",
              "      <td>while brushing my teeth, i somehow managed to fling my toothbrush into the toilet</td>\n",
              "      <td>102</td>\n",
              "    </tr>\n",
              "    <tr>\n",
              "      <th>817610</th>\n",
              "      <td>4</td>\n",
              "      <td>1551808078</td>\n",
              "      <td>YEAHH buhahahah . miissedd uuu like i love spongebob xD u rememberr . lmfaoo. iloveyoutodiie.</td>\n",
              "      <td>102</td>\n",
              "    </tr>\n",
              "    <tr>\n",
              "      <th>473173</th>\n",
              "      <td>0</td>\n",
              "      <td>2177010667</td>\n",
              "      <td>I am so sad. That's unfair. I so want to see &amp;amp; live in TUNISIA.</td>\n",
              "      <td>102</td>\n",
              "    </tr>\n",
              "    <tr>\n",
              "      <th>764112</th>\n",
              "      <td>0</td>\n",
              "      <td>2298709430</td>\n",
              "      <td>passing York - typed up notes from meeting with senior officers of engagement at Arts Council. Holiday leave over need a holiday.</td>\n",
              "      <td>102</td>\n",
              "    </tr>\n",
              "    <tr>\n",
              "      <th>166788</th>\n",
              "      <td>0</td>\n",
              "      <td>1961449612</td>\n",
              "      <td>awww she's laavly ;) I had to come in but I've got a stunning wee tan (l) ;) yourself?</td>\n",
              "      <td>102</td>\n",
              "    </tr>\n",
              "    <tr>\n",
              "      <th>...</th>\n",
              "      <td>...</td>\n",
              "      <td>...</td>\n",
              "      <td>...</td>\n",
              "      <td>...</td>\n",
              "    </tr>\n",
              "    <tr>\n",
              "      <th>115398</th>\n",
              "      <td>0</td>\n",
              "      <td>1827075084</td>\n",
              "      <td>i'm still in bed and i have to work today and write a paper after work</td>\n",
              "      <td>102</td>\n",
              "    </tr>\n",
              "    <tr>\n",
              "      <th>216404</th>\n",
              "      <td>0</td>\n",
              "      <td>1975700724</td>\n",
              "      <td>Battery dieing... Will probably have to go back to the bb soon I need to invest in a new battery! #PCPC</td>\n",
              "      <td>102</td>\n",
              "    </tr>\n",
              "    <tr>\n",
              "      <th>559989</th>\n",
              "      <td>0</td>\n",
              "      <td>2205095006</td>\n",
              "      <td>Your emails are not working it seems x</td>\n",
              "      <td>102</td>\n",
              "    </tr>\n",
              "    <tr>\n",
              "      <th>191886</th>\n",
              "      <td>0</td>\n",
              "      <td>1969736250</td>\n",
              "      <td>Forgot that I had also made a smelly mess when I dropped and shattered a pickle jar.</td>\n",
              "      <td>102</td>\n",
              "    </tr>\n",
              "    <tr>\n",
              "      <th>529259</th>\n",
              "      <td>0</td>\n",
              "      <td>2195390527</td>\n",
              "      <td>i'm sorry hunni i wish i could call for you</td>\n",
              "      <td>102</td>\n",
              "    </tr>\n",
              "  </tbody>\n",
              "</table>\n",
              "<p>1046667 rows × 4 columns</p>\n",
              "</div>"
            ],
            "text/plain": [
              "        sentiment  ...  tweet_length\n",
              "454169  0          ...  102         \n",
              "817610  4          ...  102         \n",
              "473173  0          ...  102         \n",
              "764112  0          ...  102         \n",
              "166788  0          ...  102         \n",
              "...    ..          ...  ...         \n",
              "115398  0          ...  102         \n",
              "216404  0          ...  102         \n",
              "559989  0          ...  102         \n",
              "191886  0          ...  102         \n",
              "529259  0          ...  102         \n",
              "\n",
              "[1046667 rows x 4 columns]"
            ]
          },
          "metadata": {
            "tags": []
          },
          "execution_count": 7
        }
      ]
    },
    {
      "cell_type": "code",
      "metadata": {
        "id": "2VqD0VoWPfeC",
        "colab_type": "code",
        "colab": {}
      },
      "source": [
        "test_percentage = 0.0005\n",
        "#df_clean.sort_index(inplace=True)#Increase subset\n",
        "cutoff = int(test_percentage * df_clean.shape[0])\n",
        "df_clean[['sentiment', 'text']][:cutoff].to_csv('Tweets_filtered_test.csv', index=False, encoding='utf-8')\n",
        "df_clean[['sentiment', 'text']][cutoff:cutoff+50000].to_csv('Tweets_filtered_train.csv', index=False, encoding='utf-8')\n",
        "df_clean[['text']][cutoff:cutoff+50000].to_csv('Tweets_text_only_train.csv', index=False, encoding='utf-8')"
      ],
      "execution_count": null,
      "outputs": []
    },
    {
      "cell_type": "code",
      "metadata": {
        "id": "M6K7XPIKRF1i",
        "colab_type": "code",
        "colab": {
          "base_uri": "https://localhost:8080/",
          "height": 425
        },
        "outputId": "a5d1616b-e01e-439d-a91e-b1c0ddc33337"
      },
      "source": [
        "data = TextClasDataBunch.from_csv('.', 'Tweets_filtered_train.csv')\n",
        "data.show_batch()"
      ],
      "execution_count": null,
      "outputs": [
        {
          "output_type": "display_data",
          "data": {
            "text/html": [
              ""
            ],
            "text/plain": [
              "<IPython.core.display.HTML object>"
            ]
          },
          "metadata": {
            "tags": []
          }
        },
        {
          "output_type": "display_data",
          "data": {
            "text/html": [
              ""
            ],
            "text/plain": [
              "<IPython.core.display.HTML object>"
            ]
          },
          "metadata": {
            "tags": []
          }
        },
        {
          "output_type": "stream",
          "text": [
            "/usr/local/lib/python3.6/dist-packages/fastai/text/data.py:339: UserWarning: This overload of nonzero is deprecated:\n",
            "\tnonzero()\n",
            "Consider using one of the following signatures instead:\n",
            "\tnonzero(*, bool as_tuple) (Triggered internally at  /pytorch/torch/csrc/utils/python_arg_parser.cpp:766.)\n",
            "  idx_min = (t != self.pad_idx).nonzero().min()\n"
          ],
          "name": "stderr"
        },
        {
          "output_type": "display_data",
          "data": {
            "text/html": [
              "<table border=\"1\" class=\"dataframe\">\n",
              "  <thead>\n",
              "    <tr style=\"text-align: right;\">\n",
              "      <th>text</th>\n",
              "      <th>target</th>\n",
              "    </tr>\n",
              "  </thead>\n",
              "  <tbody>\n",
              "    <tr>\n",
              "      <td>xxbos xxup up xxup early xxup but xxup no xxup church xxup im xxup going 2 xxup have xxup church n xxup me xxup apt xxup just xxup as xxup soon xxup as i xxup go xxup by xxup job xxup b4 i xxup curse xxup her xxup out ! xxup lol ! xxup she xxup woke xxup me xxup up !</td>\n",
              "      <td>0</td>\n",
              "    </tr>\n",
              "    <tr>\n",
              "      <td>xxbos xxmaj firefly xxup xxunk ðºð ° ðºð ° xxup xxunk xxunk xxunk ° xxup xxunk ° xxunk ? xxunk xxunk ° xxup xxunk xxup xxunk ° xxunk ° . xxup xxunk ° xxup xxunk ° xxunk » xxunk xxunk xxup xxunk ° xxunk xxunk xxunk ° xxup xxunk ? xxunk ° xxup xxunk ° xxup xxunk xxup xxunk xxunk ? xxunk</td>\n",
              "      <td>0</td>\n",
              "    </tr>\n",
              "    <tr>\n",
              "      <td>xxbos xxup hate xxup hate xxup hate admin - my admin file labels read &amp; ' xxmaj boring xxmaj stuff 1 &amp; ' &amp; ' xxup bs 2 &amp; ' &amp; ' xxmaj stuff 2 try &amp; &amp; avoid &amp; ' etc . ! ! ! xxmaj xxunk * xxunk arms &amp; &amp; stomps foot *</td>\n",
              "      <td>0</td>\n",
              "    </tr>\n",
              "    <tr>\n",
              "      <td>xxbos xxup it xxup matters xxup most xxup tomorrow xxup but xxup still xxup sa xxrep 4 d xxup this xxup is xxup one xxup reason xxup to xxup dive xxup into xxup the xxup poison xxup of xxup my xxup choice xxup lol xxup francis xxup xxunk xxup wine xxup omg xxup yummm ! !</td>\n",
              "      <td>0</td>\n",
              "    </tr>\n",
              "    <tr>\n",
              "      <td>xxbos xxmaj had a xxmaj xxunk xxmaj night xxmaj with xxmaj xxunk ... xxmaj all xxmaj ruined xxmaj by xxmaj the xxmaj face xxmaj by xxmaj my xxmaj backk xxmaj started xxmaj xxunk xxmaj up xx xxmaj ohh xxmaj well xxmaj love xxmaj youu xxmaj xxunk xx 8 xxmaj days xxmaj xxunk</td>\n",
              "      <td>0</td>\n",
              "    </tr>\n",
              "  </tbody>\n",
              "</table>"
            ],
            "text/plain": [
              "<IPython.core.display.HTML object>"
            ]
          },
          "metadata": {
            "tags": []
          }
        }
      ]
    },
    {
      "cell_type": "code",
      "metadata": {
        "id": "vo5QDte3ukiD",
        "colab_type": "code",
        "colab": {
          "base_uri": "https://localhost:8080/",
          "height": 187
        },
        "outputId": "6c8049f9-9908-4123-900b-d02a541325d8"
      },
      "source": [
        "data.vocab.itos[:10]"
      ],
      "execution_count": null,
      "outputs": [
        {
          "output_type": "execute_result",
          "data": {
            "text/plain": [
              "['xxunk',\n",
              " 'xxpad',\n",
              " 'xxbos',\n",
              " 'xxeos',\n",
              " 'xxfld',\n",
              " 'xxmaj',\n",
              " 'xxup',\n",
              " 'xxrep',\n",
              " 'xxwrep',\n",
              " 'i']"
            ]
          },
          "metadata": {
            "tags": []
          },
          "execution_count": 10
        }
      ]
    },
    {
      "cell_type": "code",
      "metadata": {
        "id": "LiYyy010urpW",
        "colab_type": "code",
        "colab": {
          "base_uri": "https://localhost:8080/",
          "height": 68
        },
        "outputId": "d88f9f48-6e5c-4fea-e467-9def035ad9a9"
      },
      "source": [
        "print(data.train_ds[0][0])\n",
        "print(data.train_ds[1][0])\n",
        "print(data.train_ds[2][0])"
      ],
      "execution_count": null,
      "outputs": [
        {
          "output_type": "stream",
          "text": [
            "xxbos aww me too ! ! ! we miss you .\n",
            "xxbos homework\n",
            "xxbos xxmaj falling asleep fast . xxmaj headache\n"
          ],
          "name": "stdout"
        }
      ]
    },
    {
      "cell_type": "code",
      "metadata": {
        "id": "PsjQ8sZauwcR",
        "colab_type": "code",
        "colab": {
          "base_uri": "https://localhost:8080/",
          "height": 68
        },
        "outputId": "ebbfa34a-4ac1-4c1c-a8d4-5a5a1cb5988b"
      },
      "source": [
        "print(data.train_ds[0][0].data[:10])\n",
        "print(data.train_ds[1][0].data[:10])\n",
        "print(data.train_ds[2][0].data[:10])"
      ],
      "execution_count": null,
      "outputs": [
        {
          "output_type": "stream",
          "text": [
            "[  2 342  31  66  11  11  11  69  89  20]\n",
            "[  2 554]\n",
            "[   2    5 1026  516  692   10    5  365]\n"
          ],
          "name": "stdout"
        }
      ]
    },
    {
      "cell_type": "code",
      "metadata": {
        "id": "WC3LFgQDz4N2",
        "colab_type": "code",
        "colab": {}
      },
      "source": [
        "bs = 48\n",
        "seed = 333"
      ],
      "execution_count": null,
      "outputs": []
    },
    {
      "cell_type": "code",
      "metadata": {
        "id": "4NLm-Ga_0Bx0",
        "colab_type": "code",
        "colab": {
          "base_uri": "https://localhost:8080/",
          "height": 71
        },
        "outputId": "b8160e37-2c58-41c3-f19e-798c66d28cc9"
      },
      "source": [
        "data_lm = (TextList.from_csv('.', 'Tweets_text_only_train.csv')\n",
        "            .random_split_by_pct(0.1, seed = seed)\n",
        "           #We randomly split and keep 10% for validation\n",
        "            .label_for_lm()           \n",
        "           #We want to do a language model so we label accordingly\n",
        "            .databunch(bs=bs))\n",
        "data_lm.save('data_lm.pkl')"
      ],
      "execution_count": null,
      "outputs": [
        {
          "output_type": "stream",
          "text": [
            "/usr/local/lib/python3.6/dist-packages/fastai/data_block.py:217: UserWarning: `random_split_by_pct` is deprecated, please use `split_by_rand_pct`.\n",
            "  warn(\"`random_split_by_pct` is deprecated, please use `split_by_rand_pct`.\")\n"
          ],
          "name": "stderr"
        },
        {
          "output_type": "display_data",
          "data": {
            "text/html": [
              ""
            ],
            "text/plain": [
              "<IPython.core.display.HTML object>"
            ]
          },
          "metadata": {
            "tags": []
          }
        },
        {
          "output_type": "display_data",
          "data": {
            "text/html": [
              ""
            ],
            "text/plain": [
              "<IPython.core.display.HTML object>"
            ]
          },
          "metadata": {
            "tags": []
          }
        }
      ]
    },
    {
      "cell_type": "code",
      "metadata": {
        "id": "HXYOwDLg0HdF",
        "colab_type": "code",
        "colab": {
          "base_uri": "https://localhost:8080/",
          "height": 374
        },
        "outputId": "100195cf-db77-4e52-b2dd-e1d4e11bdffa"
      },
      "source": [
        "data_lm.show_batch()"
      ],
      "execution_count": null,
      "outputs": [
        {
          "output_type": "display_data",
          "data": {
            "text/html": [
              "<table border=\"1\" class=\"dataframe\">\n",
              "  <thead>\n",
              "    <tr style=\"text-align: right;\">\n",
              "      <th>idx</th>\n",
              "      <th>text</th>\n",
              "    </tr>\n",
              "  </thead>\n",
              "  <tbody>\n",
              "    <tr>\n",
              "      <td>0</td>\n",
              "      <td>contacts xxbos ow , i rolled of ma parents bed yesterday and landed on ma hip and i now have a huge xxunk n i cnt touch it cause it hurts heaps xxbos xxmaj very sad .. xxmaj my xxunk falling out of love with me xxbos xxunk - xxrep 4 ? ? ? ? xxbos xxmaj oh sugar , that 's not nice xxbos xxmaj my cinema . xxmaj</td>\n",
              "    </tr>\n",
              "    <tr>\n",
              "      <td>1</td>\n",
              "      <td>can play the xxunk card ... xxbos so , uhm , answer : xxmaj probably , but not many xxunk exist apparently , except maybe in xxmaj psychology . xxmaj the woo have taken over xxbos xxmaj only 1 hour 50 minutes left of work xxmaj better get back to it then xxbos xxmaj had a very fun game night with xxmaj we played xxmaj xxunk xxmaj quest and xxmaj</td>\n",
              "    </tr>\n",
              "    <tr>\n",
              "      <td>2</td>\n",
              "      <td>gettin my xxunk xxbos xxmaj at east xxunk chino stop eating ... lmao they have some hugh xxunk ... lmao no club soda ! xxbos i wished i could play too ... xxbos xxunk ... okay , i will pay no attention to the man behind the curtain xxbos a classic sunday ... xxmaj good xxunk ... xxmaj then fried chicken ! xxmaj life is good ! xxbos oh n</td>\n",
              "    </tr>\n",
              "    <tr>\n",
              "      <td>3</td>\n",
              "      <td>xxup hot coffee xxbos xxmaj it 's not as much as i appreciate the information . xxmaj thanks ! xxbos i must get ready to go out , other xxunk mate is taking me for a walk and talk xxrep 4 . dreading it xxbos you became like xxunk now .. part of our hearts are going with you ! ! do nt xxunk xxrep 6 e xxrep 6 !</td>\n",
              "    </tr>\n",
              "    <tr>\n",
              "      <td>4</td>\n",
              "      <td>anymore . i 'll have to download everything again . xxbos i love you xxbos i am preparing for the launch of the xxmaj wall of 100 xxmaj faces . xxmaj it is going well . xxmaj but i did very little this weekend and am now behind xxbos xxmaj thank you xxmaj bill for the well wishes xxmaj packing was a xxunk and one of the wheels on my</td>\n",
              "    </tr>\n",
              "  </tbody>\n",
              "</table>"
            ],
            "text/plain": [
              "<IPython.core.display.HTML object>"
            ]
          },
          "metadata": {
            "tags": []
          }
        }
      ]
    },
    {
      "cell_type": "code",
      "metadata": {
        "id": "4SLVPvWm1IFz",
        "colab_type": "code",
        "colab": {
          "base_uri": "https://localhost:8080/",
          "height": 34
        },
        "outputId": "9cd7179f-6500-4b92-b33e-63abdf6d44e0"
      },
      "source": [
        "learn = language_model_learner(data_lm, AWD_LSTM, drop_mult=0.3)"
      ],
      "execution_count": null,
      "outputs": [
        {
          "output_type": "stream",
          "text": [
            "Downloading https://s3.amazonaws.com/fast-ai-modelzoo/wt103-fwd.tgz\n"
          ],
          "name": "stdout"
        },
        {
          "output_type": "display_data",
          "data": {
            "text/html": [
              ""
            ],
            "text/plain": [
              "<IPython.core.display.HTML object>"
            ]
          },
          "metadata": {
            "tags": []
          }
        }
      ]
    },
    {
      "cell_type": "code",
      "metadata": {
        "id": "lzF11ZcDCehi",
        "colab_type": "code",
        "colab": {
          "base_uri": "https://localhost:8080/",
          "height": 34
        },
        "outputId": "573367e6-c857-479a-ab53-d4f7ba15f1ee"
      },
      "source": [
        "raw_output = AWD_LSTM\n",
        "print(raw_output)"
      ],
      "execution_count": null,
      "outputs": [
        {
          "output_type": "stream",
          "text": [
            "<class 'fastai.text.models.awd_lstm.AWD_LSTM'>\n"
          ],
          "name": "stdout"
        }
      ]
    },
    {
      "cell_type": "code",
      "metadata": {
        "id": "LyFKtP8l58AU",
        "colab_type": "code",
        "colab": {
          "base_uri": "https://localhost:8080/",
          "height": 112
        },
        "outputId": "b34d2334-e5ca-44f5-ac78-7750f6770e30"
      },
      "source": [
        "learn.lr_find()\n"
      ],
      "execution_count": null,
      "outputs": [
        {
          "output_type": "display_data",
          "data": {
            "text/html": [
              "\n",
              "    <div>\n",
              "        <style>\n",
              "            /* Turns off some styling */\n",
              "            progress {\n",
              "                /* gets rid of default border in Firefox and Opera. */\n",
              "                border: none;\n",
              "                /* Needs to be in here for Safari polyfill so background images work as expected. */\n",
              "                background-size: auto;\n",
              "            }\n",
              "            .progress-bar-interrupted, .progress-bar-interrupted::-webkit-progress-bar {\n",
              "                background: #F44336;\n",
              "            }\n",
              "        </style>\n",
              "      <progress value='0' class='' max='1' style='width:300px; height:20px; vertical-align: middle;'></progress>\n",
              "      0.00% [0/1 00:00<00:00]\n",
              "    </div>\n",
              "    \n",
              "<table border=\"1\" class=\"dataframe\">\n",
              "  <thead>\n",
              "    <tr style=\"text-align: left;\">\n",
              "      <th>epoch</th>\n",
              "      <th>train_loss</th>\n",
              "      <th>valid_loss</th>\n",
              "      <th>accuracy</th>\n",
              "      <th>time</th>\n",
              "    </tr>\n",
              "  </thead>\n",
              "  <tbody>\n",
              "  </tbody>\n",
              "</table><p>\n",
              "\n",
              "    <div>\n",
              "        <style>\n",
              "            /* Turns off some styling */\n",
              "            progress {\n",
              "                /* gets rid of default border in Firefox and Opera. */\n",
              "                border: none;\n",
              "                /* Needs to be in here for Safari polyfill so background images work as expected. */\n",
              "                background-size: auto;\n",
              "            }\n",
              "            .progress-bar-interrupted, .progress-bar-interrupted::-webkit-progress-bar {\n",
              "                background: #F44336;\n",
              "            }\n",
              "        </style>\n",
              "      <progress value='99' class='' max='247' style='width:300px; height:20px; vertical-align: middle;'></progress>\n",
              "      40.08% [99/247 14:06<21:04 10.4840]\n",
              "    </div>\n",
              "    "
            ],
            "text/plain": [
              "<IPython.core.display.HTML object>"
            ]
          },
          "metadata": {
            "tags": []
          }
        },
        {
          "output_type": "stream",
          "text": [
            "LR Finder is complete, type {learner_name}.recorder.plot() to see the graph.\n"
          ],
          "name": "stdout"
        }
      ]
    },
    {
      "cell_type": "code",
      "metadata": {
        "id": "paFsfO9k7CbQ",
        "colab_type": "code",
        "colab": {
          "base_uri": "https://localhost:8080/",
          "height": 279
        },
        "outputId": "56c9c8d6-8f51-409f-d2c2-14affedc7d40"
      },
      "source": [
        "learn.recorder.plot(skip_end=15)\n"
      ],
      "execution_count": null,
      "outputs": [
        {
          "output_type": "display_data",
          "data": {
            "image/png": "[encoded data removed]",
            "text/plain": [
              "<Figure size 432x288 with 1 Axes>"
            ]
          },
          "metadata": {
            "tags": [],
            "needs_background": "light"
          }
        }
      ]
    },
    {
      "cell_type": "markdown",
      "metadata": {
        "id": "t1B2syguCTCo",
        "colab_type": "text"
      },
      "source": [
        ""
      ]
    },
    {
      "cell_type": "code",
      "metadata": {
        "id": "lGplBsTu2XE1",
        "colab_type": "code",
        "colab": {
          "base_uri": "https://localhost:8080/",
          "height": 80
        },
        "outputId": "29f58275-7c66-4953-fdf7-d591462024fa"
      },
      "source": [
        "learn.fit_one_cycle(1, 1e-2, moms=(0.8,0.7))"
      ],
      "execution_count": null,
      "outputs": [
        {
          "output_type": "display_data",
          "data": {
            "text/html": [
              "<table border=\"1\" class=\"dataframe\">\n",
              "  <thead>\n",
              "    <tr style=\"text-align: left;\">\n",
              "      <th>epoch</th>\n",
              "      <th>train_loss</th>\n",
              "      <th>valid_loss</th>\n",
              "      <th>accuracy</th>\n",
              "      <th>time</th>\n",
              "    </tr>\n",
              "  </thead>\n",
              "  <tbody>\n",
              "    <tr>\n",
              "      <td>0</td>\n",
              "      <td>4.480843</td>\n",
              "      <td>4.246226</td>\n",
              "      <td>0.228571</td>\n",
              "      <td>29:06</td>\n",
              "    </tr>\n",
              "  </tbody>\n",
              "</table>"
            ],
            "text/plain": [
              "<IPython.core.display.HTML object>"
            ]
          },
          "metadata": {
            "tags": []
          }
        }
      ]
    },
    {
      "cell_type": "code",
      "metadata": {
        "id": "JoO865Fl7aQf",
        "colab_type": "code",
        "colab": {}
      },
      "source": [
        "learn.save('fit_head')\n"
      ],
      "execution_count": null,
      "outputs": []
    },
    {
      "cell_type": "code",
      "metadata": {
        "id": "UUQQ_uI87cSn",
        "colab_type": "code",
        "colab": {}
      },
      "source": [
        "learn.unfreeze()\n"
      ],
      "execution_count": null,
      "outputs": []
    },
    {
      "cell_type": "code",
      "metadata": {
        "id": "TwU_T_Dx7eAh",
        "colab_type": "code",
        "colab": {
          "base_uri": "https://localhost:8080/",
          "height": 328
        },
        "outputId": "95561cc4-1ea7-432f-ae28-90870ac76dee"
      },
      "source": [
        "learn.fit_one_cycle(9, 1e-3, moms=(0.8,0.7))\n"
      ],
      "execution_count": null,
      "outputs": [
        {
          "output_type": "display_data",
          "data": {
            "text/html": [
              "<table border=\"1\" class=\"dataframe\">\n",
              "  <thead>\n",
              "    <tr style=\"text-align: left;\">\n",
              "      <th>epoch</th>\n",
              "      <th>train_loss</th>\n",
              "      <th>valid_loss</th>\n",
              "      <th>accuracy</th>\n",
              "      <th>time</th>\n",
              "    </tr>\n",
              "  </thead>\n",
              "  <tbody>\n",
              "    <tr>\n",
              "      <td>0</td>\n",
              "      <td>4.183802</td>\n",
              "      <td>4.005543</td>\n",
              "      <td>0.300000</td>\n",
              "      <td>45:29</td>\n",
              "    </tr>\n",
              "    <tr>\n",
              "      <td>1</td>\n",
              "      <td>4.070733</td>\n",
              "      <td>3.930424</td>\n",
              "      <td>0.285714</td>\n",
              "      <td>44:21</td>\n",
              "    </tr>\n",
              "    <tr>\n",
              "      <td>2</td>\n",
              "      <td>3.962897</td>\n",
              "      <td>3.896124</td>\n",
              "      <td>0.285714</td>\n",
              "      <td>45:32</td>\n",
              "    </tr>\n",
              "    <tr>\n",
              "      <td>3</td>\n",
              "      <td>3.761619</td>\n",
              "      <td>3.773818</td>\n",
              "      <td>0.300000</td>\n",
              "      <td>45:44</td>\n",
              "    </tr>\n",
              "    <tr>\n",
              "      <td>4</td>\n",
              "      <td>3.524674</td>\n",
              "      <td>3.773977</td>\n",
              "      <td>0.328571</td>\n",
              "      <td>45:25</td>\n",
              "    </tr>\n",
              "    <tr>\n",
              "      <td>5</td>\n",
              "      <td>3.285469</td>\n",
              "      <td>3.755852</td>\n",
              "      <td>0.328571</td>\n",
              "      <td>45:31</td>\n",
              "    </tr>\n",
              "    <tr>\n",
              "      <td>6</td>\n",
              "      <td>3.064705</td>\n",
              "      <td>3.800383</td>\n",
              "      <td>0.342857</td>\n",
              "      <td>45:18</td>\n",
              "    </tr>\n",
              "    <tr>\n",
              "      <td>7</td>\n",
              "      <td>2.924395</td>\n",
              "      <td>3.842550</td>\n",
              "      <td>0.328571</td>\n",
              "      <td>45:14</td>\n",
              "    </tr>\n",
              "    <tr>\n",
              "      <td>8</td>\n",
              "      <td>2.845730</td>\n",
              "      <td>3.849326</td>\n",
              "      <td>0.328571</td>\n",
              "      <td>45:11</td>\n",
              "    </tr>\n",
              "  </tbody>\n",
              "</table>"
            ],
            "text/plain": [
              "<IPython.core.display.HTML object>"
            ]
          },
          "metadata": {
            "tags": []
          }
        }
      ]
    },
    {
      "cell_type": "code",
      "metadata": {
        "id": "tg3Kib5r_jt5",
        "colab_type": "code",
        "colab": {}
      },
      "source": [
        "learn.save('fine_tuned')"
      ],
      "execution_count": null,
      "outputs": []
    },
    {
      "cell_type": "code",
      "metadata": {
        "id": "Je7XrIGg_kFn",
        "colab_type": "code",
        "colab": {}
      },
      "source": [
        "learn.save_encoder('fine_tuned_enc')"
      ],
      "execution_count": null,
      "outputs": []
    },
    {
      "cell_type": "code",
      "metadata": {
        "id": "pHaP9n_-gNmu",
        "colab_type": "code",
        "colab": {
          "base_uri": "https://localhost:8080/",
          "height": 34
        },
        "outputId": "bdba59a2-fe80-4cdb-b28e-752c334cf27b"
      },
      "source": [
        "from google.colab import drive\n",
        "drive.mount('/content/drive')"
      ],
      "execution_count": null,
      "outputs": [
        {
          "output_type": "stream",
          "text": [
            "Mounted at /content/drive\n"
          ],
          "name": "stdout"
        }
      ]
    },
    {
      "cell_type": "code",
      "metadata": {
        "id": "kDK5hEw3ADWC",
        "colab_type": "code",
        "colab": {
          "base_uri": "https://localhost:8080/",
          "height": 360
        },
        "outputId": "592f3aca-992c-42eb-fd5c-990f7d963910"
      },
      "source": [
        "data_clas = (TextList.from_csv('.', 'Tweets_filtered_train.csv', cols = 'text')               \n",
        "             .random_split_by_pct(0.1, seed = seed)\n",
        "             .label_from_df(cols=0)\n",
        "             .databunch(bs=bs))\n",
        "data_clas.save('data_clas.pkl')\n",
        "data_clas.show_batch()"
      ],
      "execution_count": null,
      "outputs": [
        {
          "output_type": "stream",
          "text": [
            "/usr/local/lib/python3.6/dist-packages/fastai/data_block.py:217: UserWarning: `random_split_by_pct` is deprecated, please use `split_by_rand_pct`.\n",
            "  warn(\"`random_split_by_pct` is deprecated, please use `split_by_rand_pct`.\")\n"
          ],
          "name": "stderr"
        },
        {
          "output_type": "display_data",
          "data": {
            "text/html": [
              ""
            ],
            "text/plain": [
              "<IPython.core.display.HTML object>"
            ]
          },
          "metadata": {
            "tags": []
          }
        },
        {
          "output_type": "display_data",
          "data": {
            "text/html": [
              ""
            ],
            "text/plain": [
              "<IPython.core.display.HTML object>"
            ]
          },
          "metadata": {
            "tags": []
          }
        },
        {
          "output_type": "display_data",
          "data": {
            "text/html": [
              "<table border=\"1\" class=\"dataframe\">\n",
              "  <thead>\n",
              "    <tr style=\"text-align: right;\">\n",
              "      <th>text</th>\n",
              "      <th>target</th>\n",
              "    </tr>\n",
              "  </thead>\n",
              "  <tbody>\n",
              "    <tr>\n",
              "      <td>xxbos xxmaj firefly xxup xxunk xxunk ° xxunk ° xxup xxunk xxunk xxunk ° xxup xxunk ° xxunk ? xxunk xxunk ° xxup xxunk xxup xxunk ° xxunk ° . xxup xxunk ° xxup xxunk ° xxunk xxunk xxunk xxunk xxup xxunk ° xxunk xxunk xxunk ° xxup xxunk ? xxunk ° xxup xxunk ° xxup xxunk xxup xxunk xxunk ? xxunk</td>\n",
              "      <td>0</td>\n",
              "    </tr>\n",
              "    <tr>\n",
              "      <td>xxbos xxmaj home at last . xxmaj now bed ! xxmaj thanks to my xxup awesome moving crew ! xxmaj you guys rock ! xxmaj missin ' some xxup xxunk . xxmaj lots of xxunk ' up to do in xxmaj east xxmaj xxunk !</td>\n",
              "      <td>0</td>\n",
              "    </tr>\n",
              "    <tr>\n",
              "      <td>xxbos is callin it a night . xxmaj too bad my xxmaj twitter crush was n't on tonight . [ xxup xxunk xxup lose xxup it ] [ xxup lol ] xxmaj oh xxmaj well ... better luck tomorrow ... right ? ! g'night !</td>\n",
              "      <td>0</td>\n",
              "    </tr>\n",
              "    <tr>\n",
              "      <td>xxbos i am so lame xxrep 4 . xxmaj it 's 8 pm and i 'm in bed xxrep 4 . how did this happen ? ? xxmaj did n't i have a life at one point ? ? i need chocolate xxrep 4 .</td>\n",
              "      <td>0</td>\n",
              "    </tr>\n",
              "    <tr>\n",
              "      <td>xxbos i xxup will xxup no xxup longer xxup be xxup on xxup twitter i xxup made a xxup bet xxup and i xxup lost xxup so xxup the xxup bet xxup was xxup if xxup lost i xxup delete xxup my xxup twitter</td>\n",
              "      <td>0</td>\n",
              "    </tr>\n",
              "  </tbody>\n",
              "</table>"
            ],
            "text/plain": [
              "<IPython.core.display.HTML object>"
            ]
          },
          "metadata": {
            "tags": []
          }
        }
      ]
    },
    {
      "cell_type": "code",
      "metadata": {
        "id": "1-yHPP8eMjEX",
        "colab_type": "code",
        "colab": {}
      },
      "source": [
        ""
      ],
      "execution_count": null,
      "outputs": []
    },
    {
      "cell_type": "code",
      "metadata": {
        "id": "6NTWyuPqAIEB",
        "colab_type": "code",
        "colab": {
          "base_uri": "https://localhost:8080/",
          "height": 1000
        },
        "outputId": "abe0126a-7713-4ee3-f3ac-df65da2568b7"
      },
      "source": [
        "learn = text_classifier_learner(data_clas, AWD_LSTM, drop_mult=0.5)\n",
        "learn.load_encoder('fine_tuned_enc')"
      ],
      "execution_count": null,
      "outputs": [
        {
          "output_type": "execute_result",
          "data": {
            "text/plain": [
              "RNNLearner(data=TextClasDataBunch;\n",
              "\n",
              "Train: LabelList (45000 items)\n",
              "x: TextList\n",
              "xxbos is sad i fell asleep and missed something ... but now i m watchin the tony awards ! ! !,xxbos you re extremely lucky you re not home ! i felt like curling up into a ball , but i did nt . i went out to get ice & & got rained on,xxbos yes over the 3 wireless network . xxmaj but i lost all my contacts,xxbos ow , i rolled of ma parents bed yesterday and landed on ma hip and i now have a huge xxunk n i cnt touch it cause it hurts heaps,xxbos xxmaj very sad .. xxmaj my xxunk falling out of love with me\n",
              "y: CategoryList\n",
              "0,0,0,0,0\n",
              "Path: .;\n",
              "\n",
              "Valid: LabelList (5000 items)\n",
              "x: TextList\n",
              "xxbos xxmaj xxunk house ... missing,xxbos xxup rip xxunk and xxunk great female xxunk r far and between nowadays ...,xxbos xxmaj is in saturday school right now,xxbos i am lost . xxmaj please help me find a good home .,xxbos xxmaj missed u today\n",
              "y: CategoryList\n",
              "0,0,0,0,0\n",
              "Path: .;\n",
              "\n",
              "Test: None, model=SequentialRNN(\n",
              "  (0): MultiBatchEncoder(\n",
              "    (module): AWD_LSTM(\n",
              "      (encoder): Embedding(9712, 400, padding_idx=1)\n",
              "      (encoder_dp): EmbeddingDropout(\n",
              "        (emb): Embedding(9712, 400, padding_idx=1)\n",
              "      )\n",
              "      (rnns): ModuleList(\n",
              "        (0): WeightDropout(\n",
              "          (module): LSTM(400, 1152, batch_first=True)\n",
              "        )\n",
              "        (1): WeightDropout(\n",
              "          (module): LSTM(1152, 1152, batch_first=True)\n",
              "        )\n",
              "        (2): WeightDropout(\n",
              "          (module): LSTM(1152, 400, batch_first=True)\n",
              "        )\n",
              "      )\n",
              "      (input_dp): RNNDropout()\n",
              "      (hidden_dps): ModuleList(\n",
              "        (0): RNNDropout()\n",
              "        (1): RNNDropout()\n",
              "        (2): RNNDropout()\n",
              "      )\n",
              "    )\n",
              "  )\n",
              "  (1): PoolingLinearClassifier(\n",
              "    (layers): Sequential(\n",
              "      (0): BatchNorm1d(1200, eps=1e-05, momentum=0.1, affine=True, track_running_stats=True)\n",
              "      (1): Dropout(p=0.2, inplace=False)\n",
              "      (2): Linear(in_features=1200, out_features=50, bias=True)\n",
              "      (3): ReLU(inplace=True)\n",
              "      (4): BatchNorm1d(50, eps=1e-05, momentum=0.1, affine=True, track_running_stats=True)\n",
              "      (5): Dropout(p=0.1, inplace=False)\n",
              "      (6): Linear(in_features=50, out_features=2, bias=True)\n",
              "    )\n",
              "  )\n",
              "), opt_func=functools.partial(<class 'torch.optim.adam.Adam'>, betas=(0.9, 0.99)), loss_func=FlattenedLoss of CrossEntropyLoss(), metrics=[<function accuracy at 0x7efcf65f0d08>], true_wd=True, bn_wd=True, wd=0.01, train_bn=True, path=PosixPath('.'), model_dir='models', callback_fns=[functools.partial(<class 'fastai.basic_train.Recorder'>, add_time=True, silent=False)], callbacks=[RNNTrainer\n",
              "learn: RNNLearner(data=TextClasDataBunch;\n",
              "\n",
              "Train: LabelList (45000 items)\n",
              "x: TextList\n",
              "xxbos is sad i fell asleep and missed something ... but now i m watchin the tony awards ! ! !,xxbos you re extremely lucky you re not home ! i felt like curling up into a ball , but i did nt . i went out to get ice & & got rained on,xxbos yes over the 3 wireless network . xxmaj but i lost all my contacts,xxbos ow , i rolled of ma parents bed yesterday and landed on ma hip and i now have a huge xxunk n i cnt touch it cause it hurts heaps,xxbos xxmaj very sad .. xxmaj my xxunk falling out of love with me\n",
              "y: CategoryList\n",
              "0,0,0,0,0\n",
              "Path: .;\n",
              "\n",
              "Valid: LabelList (5000 items)\n",
              "x: TextList\n",
              "xxbos xxmaj xxunk house ... missing,xxbos xxup rip xxunk and xxunk great female xxunk r far and between nowadays ...,xxbos xxmaj is in saturday school right now,xxbos i am lost . xxmaj please help me find a good home .,xxbos xxmaj missed u today\n",
              "y: CategoryList\n",
              "0,0,0,0,0\n",
              "Path: .;\n",
              "\n",
              "Test: None, model=SequentialRNN(\n",
              "  (0): MultiBatchEncoder(\n",
              "    (module): AWD_LSTM(\n",
              "      (encoder): Embedding(9712, 400, padding_idx=1)\n",
              "      (encoder_dp): EmbeddingDropout(\n",
              "        (emb): Embedding(9712, 400, padding_idx=1)\n",
              "      )\n",
              "      (rnns): ModuleList(\n",
              "        (0): WeightDropout(\n",
              "          (module): LSTM(400, 1152, batch_first=True)\n",
              "        )\n",
              "        (1): WeightDropout(\n",
              "          (module): LSTM(1152, 1152, batch_first=True)\n",
              "        )\n",
              "        (2): WeightDropout(\n",
              "          (module): LSTM(1152, 400, batch_first=True)\n",
              "        )\n",
              "      )\n",
              "      (input_dp): RNNDropout()\n",
              "      (hidden_dps): ModuleList(\n",
              "        (0): RNNDropout()\n",
              "        (1): RNNDropout()\n",
              "        (2): RNNDropout()\n",
              "      )\n",
              "    )\n",
              "  )\n",
              "  (1): PoolingLinearClassifier(\n",
              "    (layers): Sequential(\n",
              "      (0): BatchNorm1d(1200, eps=1e-05, momentum=0.1, affine=True, track_running_stats=True)\n",
              "      (1): Dropout(p=0.2, inplace=False)\n",
              "      (2): Linear(in_features=1200, out_features=50, bias=True)\n",
              "      (3): ReLU(inplace=True)\n",
              "      (4): BatchNorm1d(50, eps=1e-05, momentum=0.1, affine=True, track_running_stats=True)\n",
              "      (5): Dropout(p=0.1, inplace=False)\n",
              "      (6): Linear(in_features=50, out_features=2, bias=True)\n",
              "    )\n",
              "  )\n",
              "), opt_func=functools.partial(<class 'torch.optim.adam.Adam'>, betas=(0.9, 0.99)), loss_func=FlattenedLoss of CrossEntropyLoss(), metrics=[<function accuracy at 0x7efcf65f0d08>], true_wd=True, bn_wd=True, wd=0.01, train_bn=True, path=PosixPath('.'), model_dir='models', callback_fns=[functools.partial(<class 'fastai.basic_train.Recorder'>, add_time=True, silent=False)], callbacks=[...], layer_groups=[Sequential(\n",
              "  (0): Embedding(9712, 400, padding_idx=1)\n",
              "  (1): EmbeddingDropout(\n",
              "    (emb): Embedding(9712, 400, padding_idx=1)\n",
              "  )\n",
              "), Sequential(\n",
              "  (0): WeightDropout(\n",
              "    (module): LSTM(400, 1152, batch_first=True)\n",
              "  )\n",
              "  (1): RNNDropout()\n",
              "), Sequential(\n",
              "  (0): WeightDropout(\n",
              "    (module): LSTM(1152, 1152, batch_first=True)\n",
              "  )\n",
              "  (1): RNNDropout()\n",
              "), Sequential(\n",
              "  (0): WeightDropout(\n",
              "    (module): LSTM(1152, 400, batch_first=True)\n",
              "  )\n",
              "  (1): RNNDropout()\n",
              "), Sequential(\n",
              "  (0): PoolingLinearClassifier(\n",
              "    (layers): Sequential(\n",
              "      (0): BatchNorm1d(1200, eps=1e-05, momentum=0.1, affine=True, track_running_stats=True)\n",
              "      (1): Dropout(p=0.2, inplace=False)\n",
              "      (2): Linear(in_features=1200, out_features=50, bias=True)\n",
              "      (3): ReLU(inplace=True)\n",
              "      (4): BatchNorm1d(50, eps=1e-05, momentum=0.1, affine=True, track_running_stats=True)\n",
              "      (5): Dropout(p=0.1, inplace=False)\n",
              "      (6): Linear(in_features=50, out_features=2, bias=True)\n",
              "    )\n",
              "  )\n",
              ")], add_time=True, silent=False)\n",
              "alpha: 2.0\n",
              "beta: 1.0], layer_groups=[Sequential(\n",
              "  (0): Embedding(9712, 400, padding_idx=1)\n",
              "  (1): EmbeddingDropout(\n",
              "    (emb): Embedding(9712, 400, padding_idx=1)\n",
              "  )\n",
              "), Sequential(\n",
              "  (0): WeightDropout(\n",
              "    (module): LSTM(400, 1152, batch_first=True)\n",
              "  )\n",
              "  (1): RNNDropout()\n",
              "), Sequential(\n",
              "  (0): WeightDropout(\n",
              "    (module): LSTM(1152, 1152, batch_first=True)\n",
              "  )\n",
              "  (1): RNNDropout()\n",
              "), Sequential(\n",
              "  (0): WeightDropout(\n",
              "    (module): LSTM(1152, 400, batch_first=True)\n",
              "  )\n",
              "  (1): RNNDropout()\n",
              "), Sequential(\n",
              "  (0): PoolingLinearClassifier(\n",
              "    (layers): Sequential(\n",
              "      (0): BatchNorm1d(1200, eps=1e-05, momentum=0.1, affine=True, track_running_stats=True)\n",
              "      (1): Dropout(p=0.2, inplace=False)\n",
              "      (2): Linear(in_features=1200, out_features=50, bias=True)\n",
              "      (3): ReLU(inplace=True)\n",
              "      (4): BatchNorm1d(50, eps=1e-05, momentum=0.1, affine=True, track_running_stats=True)\n",
              "      (5): Dropout(p=0.1, inplace=False)\n",
              "      (6): Linear(in_features=50, out_features=2, bias=True)\n",
              "    )\n",
              "  )\n",
              ")], add_time=True, silent=False)"
            ]
          },
          "metadata": {
            "tags": []
          },
          "execution_count": 29
        }
      ]
    },
    {
      "cell_type": "code",
      "metadata": {
        "id": "858DFJCIANEu",
        "colab_type": "code",
        "colab": {
          "base_uri": "https://localhost:8080/",
          "height": 112
        },
        "outputId": "c6bc2c70-0fab-48cb-e9ee-704d43beb0ad"
      },
      "source": [
        "learn.lr_find()\n"
      ],
      "execution_count": null,
      "outputs": [
        {
          "output_type": "display_data",
          "data": {
            "text/html": [
              "\n",
              "    <div>\n",
              "        <style>\n",
              "            /* Turns off some styling */\n",
              "            progress {\n",
              "                /* gets rid of default border in Firefox and Opera. */\n",
              "                border: none;\n",
              "                /* Needs to be in here for Safari polyfill so background images work as expected. */\n",
              "                background-size: auto;\n",
              "            }\n",
              "            .progress-bar-interrupted, .progress-bar-interrupted::-webkit-progress-bar {\n",
              "                background: #F44336;\n",
              "            }\n",
              "        </style>\n",
              "      <progress value='0' class='' max='1' style='width:300px; height:20px; vertical-align: middle;'></progress>\n",
              "      0.00% [0/1 00:00<00:00]\n",
              "    </div>\n",
              "    \n",
              "<table border=\"1\" class=\"dataframe\">\n",
              "  <thead>\n",
              "    <tr style=\"text-align: left;\">\n",
              "      <th>epoch</th>\n",
              "      <th>train_loss</th>\n",
              "      <th>valid_loss</th>\n",
              "      <th>accuracy</th>\n",
              "      <th>time</th>\n",
              "    </tr>\n",
              "  </thead>\n",
              "  <tbody>\n",
              "  </tbody>\n",
              "</table><p>\n",
              "\n",
              "    <div>\n",
              "        <style>\n",
              "            /* Turns off some styling */\n",
              "            progress {\n",
              "                /* gets rid of default border in Firefox and Opera. */\n",
              "                border: none;\n",
              "                /* Needs to be in here for Safari polyfill so background images work as expected. */\n",
              "                background-size: auto;\n",
              "            }\n",
              "            .progress-bar-interrupted, .progress-bar-interrupted::-webkit-progress-bar {\n",
              "                background: #F44336;\n",
              "            }\n",
              "        </style>\n",
              "      <progress value='93' class='' max='937' style='width:300px; height:20px; vertical-align: middle;'></progress>\n",
              "      9.93% [93/937 01:28<13:23 2.0062]\n",
              "    </div>\n",
              "    "
            ],
            "text/plain": [
              "<IPython.core.display.HTML object>"
            ]
          },
          "metadata": {
            "tags": []
          }
        },
        {
          "output_type": "stream",
          "text": [
            "LR Finder is complete, type {learner_name}.recorder.plot() to see the graph.\n"
          ],
          "name": "stdout"
        }
      ]
    },
    {
      "cell_type": "code",
      "metadata": {
        "id": "BnUb8BfLAive",
        "colab_type": "code",
        "colab": {
          "base_uri": "https://localhost:8080/",
          "height": 278
        },
        "outputId": "bcf2d2e2-a861-498d-9b97-00d8d3fed15b"
      },
      "source": [
        "learn.recorder.plot()\n"
      ],
      "execution_count": null,
      "outputs": [
        {
          "output_type": "display_data",
          "data": {
            "image/png": "[encoded data removed]",
            "text/plain": [
              "<Figure size 432x288 with 1 Axes>"
            ]
          },
          "metadata": {
            "tags": [],
            "needs_background": "light"
          }
        }
      ]
    },
    {
      "cell_type": "code",
      "metadata": {
        "id": "yEsI57SwA3Mt",
        "colab_type": "code",
        "colab": {
          "base_uri": "https://localhost:8080/",
          "height": 77
        },
        "outputId": "eef46d28-6a20-413a-aca7-8915f44df5cd"
      },
      "source": [
        "learn.fit_one_cycle(1, 1e-1, moms=(0.8,0.7))\n"
      ],
      "execution_count": null,
      "outputs": [
        {
          "output_type": "display_data",
          "data": {
            "text/html": [
              "<table border=\"1\" class=\"dataframe\">\n",
              "  <thead>\n",
              "    <tr style=\"text-align: left;\">\n",
              "      <th>epoch</th>\n",
              "      <th>train_loss</th>\n",
              "      <th>valid_loss</th>\n",
              "      <th>accuracy</th>\n",
              "      <th>time</th>\n",
              "    </tr>\n",
              "  </thead>\n",
              "  <tbody>\n",
              "    <tr>\n",
              "      <td>0</td>\n",
              "      <td>0.481021</td>\n",
              "      <td>0.435656</td>\n",
              "      <td>0.803000</td>\n",
              "      <td>17:52</td>\n",
              "    </tr>\n",
              "  </tbody>\n",
              "</table>"
            ],
            "text/plain": [
              "<IPython.core.display.HTML object>"
            ]
          },
          "metadata": {
            "tags": []
          }
        }
      ]
    },
    {
      "cell_type": "code",
      "metadata": {
        "id": "unZxT9kXtWwe",
        "colab_type": "code",
        "colab": {}
      },
      "source": [
        "test_df = pd.read_csv(\"/content/gdrive/My Drive/APS360 Project/testdata_old.csv\", encoding=\"utf-8\")"
      ],
      "execution_count": null,
      "outputs": []
    },
    {
      "cell_type": "code",
      "metadata": {
        "id": "HDlSLndCt-Wt",
        "colab_type": "code",
        "colab": {
          "base_uri": "https://localhost:8080/",
          "height": 265
        },
        "outputId": "bcb71f20-d1e8-4fca-96b3-df5c261e360f"
      },
      "source": [
        "test_df['pred_sentiment'] = test_df['text'].apply(lambda row: str(learn.predict(row)[0]))\n",
        "print(test_df)"
      ],
      "execution_count": null,
      "outputs": [
        {
          "output_type": "stream",
          "text": [
            "     sentiment  ... pred_sentiment\n",
            "0    4          ...  0            \n",
            "1    4          ...  0            \n",
            "2    4          ...  4            \n",
            "3    4          ...  0            \n",
            "4    4          ...  4            \n",
            "..  ..          ... ..            \n",
            "98   4          ...  0            \n",
            "99   4          ...  0            \n",
            "100  0          ...  0            \n",
            "101  4          ...  0            \n",
            "102  4          ...  0            \n",
            "\n",
            "[103 rows x 3 columns]\n"
          ],
          "name": "stdout"
        }
      ]
    },
    {
      "cell_type": "code",
      "metadata": {
        "id": "c_hXkKItxzgF",
        "colab_type": "code",
        "colab": {
          "base_uri": "https://localhost:8080/",
          "height": 34
        },
        "outputId": "3fd80b57-1832-4141-93cb-75e8b6dbde4e"
      },
      "source": [
        "learn.data.classes #Two possible predictions"
      ],
      "execution_count": null,
      "outputs": [
        {
          "output_type": "execute_result",
          "data": {
            "text/plain": [
              "[0, 4]"
            ]
          },
          "metadata": {
            "tags": []
          },
          "execution_count": 35
        }
      ]
    },
    {
      "cell_type": "code",
      "metadata": {
        "id": "J41HOrvpvndX",
        "colab_type": "code",
        "colab": {
          "base_uri": "https://localhost:8080/",
          "height": 34
        },
        "outputId": "d7848e0c-44a2-4f8f-f6df-69945cacbaa0"
      },
      "source": [
        "learn.predict('who Created  just To humiliate Me') #Interpretation: tensor(0) means selected 0 = negative sentiment, 80% chance of being negative, 20% of being positive"
      ],
      "execution_count": null,
      "outputs": [
        {
          "output_type": "execute_result",
          "data": {
            "text/plain": [
              "(Category tensor(0), tensor(0), tensor([0.5631, 0.4369]))"
            ]
          },
          "metadata": {
            "tags": []
          },
          "execution_count": 36
        }
      ]
    },
    {
      "cell_type": "code",
      "metadata": {
        "id": "u-123eLYxPVS",
        "colab_type": "code",
        "colab": {
          "base_uri": "https://localhost:8080/",
          "height": 34
        },
        "outputId": "c0081e95-89a8-49b9-b1f2-e93fdd5f4a93"
      },
      "source": [
        "learn.predict('love you great thanks happy') #Interpretation: tensor(1) means selected 4 = positive sentiment, 13.65% chance of being negative, 86.35% of being positive"
      ],
      "execution_count": null,
      "outputs": [
        {
          "output_type": "execute_result",
          "data": {
            "text/plain": [
              "(Category tensor(1), tensor(1), tensor([0.0521, 0.9479]))"
            ]
          },
          "metadata": {
            "tags": []
          },
          "execution_count": 37
        }
      ]
    },
    {
      "cell_type": "code",
      "metadata": {
        "id": "24ukH1l-vCLK",
        "colab_type": "code",
        "colab": {}
      },
      "source": [
        "test_df['pred_sentiment']= test_df['pred_sentiment'].astype(str).astype(int)"
      ],
      "execution_count": null,
      "outputs": []
    },
    {
      "cell_type": "code",
      "metadata": {
        "id": "ScNl4hsLvS0n",
        "colab_type": "code",
        "colab": {
          "base_uri": "https://localhost:8080/",
          "height": 230
        },
        "outputId": "b34bbcd8-fdfc-495f-9b9b-c71dec1e8b08"
      },
      "source": [
        "print(test_df['pred_sentiment'])"
      ],
      "execution_count": null,
      "outputs": [
        {
          "output_type": "stream",
          "text": [
            "0      0\n",
            "1      4\n",
            "2      4\n",
            "3      0\n",
            "4      0\n",
            "      ..\n",
            "98     0\n",
            "99     0\n",
            "100    0\n",
            "101    0\n",
            "102    0\n",
            "Name: pred_sentiment, Length: 103, dtype: int64\n"
          ],
          "name": "stdout"
        }
      ]
    },
    {
      "cell_type": "code",
      "metadata": {
        "id": "8kOvqgCtvYAI",
        "colab_type": "code",
        "colab": {
          "base_uri": "https://localhost:8080/",
          "height": 34
        },
        "outputId": "70826370-81ea-4d43-cc52-0e7cf24e1efb"
      },
      "source": [
        "print(\"Test Accuracy: \", accuracy_score(test_df['sentiment'], test_df['pred_sentiment']))"
      ],
      "execution_count": null,
      "outputs": [
        {
          "output_type": "stream",
          "text": [
            "Test Accuracy:  0.4854368932038835\n"
          ],
          "name": "stdout"
        }
      ]
    },
    {
      "cell_type": "code",
      "metadata": {
        "id": "Ozgeu2QRMywz",
        "colab_type": "code",
        "colab": {}
      },
      "source": [
        "test_df1 = pd.read_csv(\"/content/gdrive/My Drive/APS360 Project/test2data.csv\", encoding=\"utf-8\")"
      ],
      "execution_count": null,
      "outputs": []
    },
    {
      "cell_type": "code",
      "metadata": {
        "colab_type": "code",
        "id": "Cw4DkOE1fGJ_",
        "colab": {
          "base_uri": "https://localhost:8080/",
          "height": 336
        },
        "outputId": "4769ff04-1591-40d1-a165-966e6d92e270"
      },
      "source": [
        "test_clas = (TextList.from_csv('.', 'Tweets_filtered_test.csv', cols = 'text')               \n",
        "             .random_split_by_pct(0.1, seed = seed)\n",
        "             .label_from_df(cols=0)\n",
        "             .databunch(bs=bs))\n",
        "test_clas.save('test_clas.pkl')\n",
        "test_clas.show_batch()\n"
      ],
      "execution_count": null,
      "outputs": [
        {
          "output_type": "stream",
          "text": [
            "/usr/local/lib/python3.6/dist-packages/fastai/data_block.py:217: UserWarning: `random_split_by_pct` is deprecated, please use `split_by_rand_pct`.\n",
            "  warn(\"`random_split_by_pct` is deprecated, please use `split_by_rand_pct`.\")\n"
          ],
          "name": "stderr"
        },
        {
          "output_type": "display_data",
          "data": {
            "text/html": [
              ""
            ],
            "text/plain": [
              "<IPython.core.display.HTML object>"
            ]
          },
          "metadata": {
            "tags": []
          }
        },
        {
          "output_type": "display_data",
          "data": {
            "text/html": [
              ""
            ],
            "text/plain": [
              "<IPython.core.display.HTML object>"
            ]
          },
          "metadata": {
            "tags": []
          }
        },
        {
          "output_type": "display_data",
          "data": {
            "text/html": [
              "<table border=\"1\" class=\"dataframe\">\n",
              "  <thead>\n",
              "    <tr style=\"text-align: right;\">\n",
              "      <th>text</th>\n",
              "      <th>target</th>\n",
              "    </tr>\n",
              "  </thead>\n",
              "  <tbody>\n",
              "    <tr>\n",
              "      <td>xxbos oo ? xxunk ? xxunk ? ? d ? ? xxunk s ? ? ? u xxrep 6 ? xxrep 4 ? ? ' p ? ? ? o ? p ? ? ? ? no ? ? xxunk ? ? xxunk ? xxunk ? u ? ? o ? ? o ? xxrep 4 ? ? oo ? o ? xxrep 4 ? o ? ? xxunk ?</td>\n",
              "      <td>4</td>\n",
              "    </tr>\n",
              "    <tr>\n",
              "      <td>xxbos xxunk -- &gt; &gt; who the hell are you ? ? ! ! how xxunk you say ' xxunk # % you ' to me . g xxrep 4 r xxrep 4 ! xxunk xxunk xxunk xxunk ... http : / / plurk.com / p / xxunk</td>\n",
              "      <td>0</td>\n",
              "    </tr>\n",
              "    <tr>\n",
              "      <td>xxbos xxmaj have you seen the &amp; ' xxmaj xxunk xxmaj xxunk &amp; ' in xxmaj twitter ? xxmaj mine says : &amp; ' xxmaj eat xxmaj xxunk , xxup sis , xxmaj xxunk , xxmaj david xxmaj xxunk ... &amp; ' xxmaj haha , so cool !</td>\n",
              "      <td>4</td>\n",
              "    </tr>\n",
              "    <tr>\n",
              "      <td>xxbos xxup oh xxup no xxrep 5 ! xxmaj is everything ok xxrep 4 ! i did nt know you were go to xxmaj greek xxmaj picnic xxrep 4 ! xxup xxunk i m xxunk ! ! ! xxup lol xxmaj hope you had fun tho !</td>\n",
              "      <td>0</td>\n",
              "    </tr>\n",
              "    <tr>\n",
              "      <td>xxbos i just got invited to the xxmaj metal xxmaj hammer awards in xxmaj london . xxmaj it 's on a xxmaj monday night . xxmaj gah , not xxunk to make that . xxmaj how un - metal . / w \\ / w \\ !</td>\n",
              "      <td>0</td>\n",
              "    </tr>\n",
              "  </tbody>\n",
              "</table>"
            ],
            "text/plain": [
              "<IPython.core.display.HTML object>"
            ]
          },
          "metadata": {
            "tags": []
          }
        }
      ]
    },
    {
      "cell_type": "code",
      "metadata": {
        "id": "MP5IjtRxfheA",
        "colab_type": "code",
        "colab": {}
      },
      "source": [
        "test_df = pd.read_csv(\"Tweets_filtered_test.csv\", encoding=\"utf-8\")"
      ],
      "execution_count": null,
      "outputs": []
    },
    {
      "cell_type": "code",
      "metadata": {
        "id": "eaDNH2MEhNHh",
        "colab_type": "code",
        "colab": {}
      },
      "source": [
        "test_df['pred_sentiment'] = test_df['text'].apply(lambda row: str(learn.predict(row)[0]))"
      ],
      "execution_count": null,
      "outputs": []
    },
    {
      "cell_type": "code",
      "metadata": {
        "id": "H3znjrVP-qo1",
        "colab_type": "code",
        "colab": {}
      },
      "source": [
        "test_df['pred_sentiment']= test_df['pred_sentiment'].astype(str).astype(int)"
      ],
      "execution_count": null,
      "outputs": []
    },
    {
      "cell_type": "code",
      "metadata": {
        "id": "de7WhZEihFQc",
        "colab_type": "code",
        "colab": {
          "base_uri": "https://localhost:8080/",
          "height": 34
        },
        "outputId": "1d3066bb-92d2-48ca-f682-54c8dba523c0"
      },
      "source": [
        "print(\"Test Accuracy: \", accuracy_score(test_df['sentiment'], test_df['pred_sentiment']))"
      ],
      "execution_count": null,
      "outputs": [
        {
          "output_type": "stream",
          "text": [
            "Test Accuracy:  0.8164435946462715\n"
          ],
          "name": "stdout"
        }
      ]
    }
  ]
}